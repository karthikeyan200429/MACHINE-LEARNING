{
  "nbformat": 4,
  "nbformat_minor": 0,
  "metadata": {
    "colab": {
      "provenance": [],
      "include_colab_link": true
    },
    "kernelspec": {
      "name": "python3",
      "display_name": "Python 3"
    },
    "language_info": {
      "name": "python"
    }
  },
  "cells": [
    {
      "cell_type": "markdown",
      "metadata": {
        "id": "view-in-github",
        "colab_type": "text"
      },
      "source": [
        "<a href=\"https://colab.research.google.com/github/KARTHIKEYAN720822103080/KARTHIK/blob/main/diabeties_predictor_.ipynb\" target=\"_parent\"><img src=\"https://colab.research.google.com/assets/colab-badge.svg\" alt=\"Open In Colab\"/></a>"
      ]
    },
    {
      "cell_type": "code",
      "source": [
        "import numpy as np\n",
        "import pandas as pd\n",
        "import matplotlib.pyplot as plt\n",
        "import seaborn as sns\n",
        "from sklearn.model_selection import train_test_split, GridSearchCV, cross_val_score\n",
        "from sklearn.preprocessing import StandardScaler\n",
        "from sklearn.linear_model import LogisticRegression\n",
        "from sklearn.tree import DecisionTreeClassifier\n",
        "from sklearn.ensemble import RandomForestClassifier\n",
        "from sklearn.svm import SVC\n",
        "from sklearn.metrics import confusion_matrix, classification_report, accuracy_score\n"
      ],
      "metadata": {
        "id": "gIt_ggsreYup"
      },
      "execution_count": null,
      "outputs": []
    },
    {
      "cell_type": "code",
      "source": [
        "# Loading the dataset\n",
        "df = pd.read_csv('/content/dataset.csv')\n"
      ],
      "metadata": {
        "id": "edDOlDqIegHW"
      },
      "execution_count": null,
      "outputs": []
    },
    {
      "cell_type": "code",
      "source": [
        "# Exploring the dataset\n",
        "print(df.shape)  # Returns the number of rows and columns\n",
        "print(df.columns)  # Returns column headers\n",
        "print(df.dtypes)  # Returns the data types of each column\n",
        "print(df.head())  # Displays the first 5 rows\n",
        "print(df.info())  # Displays basic information about the DataFrame\n",
        "print(df.describe().T)  # Returns basic statistics on numeric columns\n",
        "print(df.isnull().any())  # Checks for null values in the DataFrame\n"
      ],
      "metadata": {
        "colab": {
          "base_uri": "https://localhost:8080/"
        },
        "id": "R2KsOjQ6e0rb",
        "outputId": "150a4c99-cb37-42ba-f920-b29d8cd49bbb"
      },
      "execution_count": null,
      "outputs": [
        {
          "output_type": "stream",
          "name": "stdout",
          "text": [
            "(768, 9)\n",
            "Index(['Pregnancies', 'Glucose', 'BloodPressure', 'SkinThickness', 'Insulin',\n",
            "       'BMI', 'DiabetesPedigreeFunction', 'Age', 'Outcome'],\n",
            "      dtype='object')\n",
            "Pregnancies                   int64\n",
            "Glucose                       int64\n",
            "BloodPressure                 int64\n",
            "SkinThickness                 int64\n",
            "Insulin                       int64\n",
            "BMI                         float64\n",
            "DiabetesPedigreeFunction    float64\n",
            "Age                           int64\n",
            "Outcome                       int64\n",
            "dtype: object\n",
            "   Pregnancies  Glucose  BloodPressure  SkinThickness  Insulin   BMI  \\\n",
            "0            6      148             72             35        0  33.6   \n",
            "1            1       85             66             29        0  26.6   \n",
            "2            8      183             64              0        0  23.3   \n",
            "3            1       89             66             23       94  28.1   \n",
            "4            0      137             40             35      168  43.1   \n",
            "\n",
            "   DiabetesPedigreeFunction  Age  Outcome  \n",
            "0                     0.627   50        1  \n",
            "1                     0.351   31        0  \n",
            "2                     0.672   32        1  \n",
            "3                     0.167   21        0  \n",
            "4                     2.288   33        1  \n",
            "<class 'pandas.core.frame.DataFrame'>\n",
            "RangeIndex: 768 entries, 0 to 767\n",
            "Data columns (total 9 columns):\n",
            " #   Column                    Non-Null Count  Dtype  \n",
            "---  ------                    --------------  -----  \n",
            " 0   Pregnancies               768 non-null    int64  \n",
            " 1   Glucose                   768 non-null    int64  \n",
            " 2   BloodPressure             768 non-null    int64  \n",
            " 3   SkinThickness             768 non-null    int64  \n",
            " 4   Insulin                   768 non-null    int64  \n",
            " 5   BMI                       768 non-null    float64\n",
            " 6   DiabetesPedigreeFunction  768 non-null    float64\n",
            " 7   Age                       768 non-null    int64  \n",
            " 8   Outcome                   768 non-null    int64  \n",
            "dtypes: float64(2), int64(7)\n",
            "memory usage: 54.1 KB\n",
            "None\n",
            "                          count        mean         std     min       25%  \\\n",
            "Pregnancies               768.0    3.845052    3.369578   0.000   1.00000   \n",
            "Glucose                   768.0  120.894531   31.972618   0.000  99.00000   \n",
            "BloodPressure             768.0   69.105469   19.355807   0.000  62.00000   \n",
            "SkinThickness             768.0   20.536458   15.952218   0.000   0.00000   \n",
            "Insulin                   768.0   79.799479  115.244002   0.000   0.00000   \n",
            "BMI                       768.0   31.992578    7.884160   0.000  27.30000   \n",
            "DiabetesPedigreeFunction  768.0    0.471876    0.331329   0.078   0.24375   \n",
            "Age                       768.0   33.240885   11.760232  21.000  24.00000   \n",
            "Outcome                   768.0    0.348958    0.476951   0.000   0.00000   \n",
            "\n",
            "                               50%        75%     max  \n",
            "Pregnancies                 3.0000    6.00000   17.00  \n",
            "Glucose                   117.0000  140.25000  199.00  \n",
            "BloodPressure              72.0000   80.00000  122.00  \n",
            "SkinThickness              23.0000   32.00000   99.00  \n",
            "Insulin                    30.5000  127.25000  846.00  \n",
            "BMI                        32.0000   36.60000   67.10  \n",
            "DiabetesPedigreeFunction    0.3725    0.62625    2.42  \n",
            "Age                        29.0000   41.00000   81.00  \n",
            "Outcome                     0.0000    1.00000    1.00  \n",
            "Pregnancies                 False\n",
            "Glucose                     False\n",
            "BloodPressure               False\n",
            "SkinThickness               False\n",
            "Insulin                     False\n",
            "BMI                         False\n",
            "DiabetesPedigreeFunction    False\n",
            "Age                         False\n",
            "Outcome                     False\n",
            "dtype: bool\n"
          ]
        }
      ]
    },
    {
      "cell_type": "code",
      "source": [
        "# Data Cleaning\n",
        "df_copy = df.copy(deep=True)\n",
        "\n",
        "# Replace 0s with NaN for specified columns\n",
        "columns_to_replace = ['Glucose', 'BloodPressure', 'SkinThickness', 'Insulin', 'BMI']\n",
        "df_copy[columns_to_replace] = df_copy[columns_to_replace].replace(0, np.NaN)\n",
        "\n",
        "# Fill missing values\n",
        "df_copy['Glucose'] = df_copy['Glucose'].fillna(df_copy['Glucose'].mean())\n",
        "df_copy['BloodPressure'] = df_copy['BloodPressure'].fillna(df_copy['BloodPressure'].mean())\n",
        "df_copy['SkinThickness'] = df_copy['SkinThickness'].fillna(df_copy['SkinThickness'].median())\n",
        "df_copy['Insulin'] = df_copy['Insulin'].fillna(df_copy['Insulin'].median())\n",
        "df_copy['BMI'] = df_copy['BMI'].fillna(df_copy['BMI'].median())\n"
      ],
      "metadata": {
        "id": "4SdoFmqze2o_"
      },
      "execution_count": null,
      "outputs": []
    },
    {
      "cell_type": "code",
      "source": [
        "# Plotting the Outcomes based on the number of dataset entries\n",
        "plt.figure(figsize=(10, 7))\n",
        "sns.countplot(x='Outcome', data=df_copy)\n",
        "plt.xlabel('Has Diabetes')\n",
        "plt.ylabel('Count')\n",
        "plt.title('Count of Diabetes Outcomes')\n",
        "plt.show()\n"
      ],
      "metadata": {
        "colab": {
          "base_uri": "https://localhost:8080/",
          "height": 641
        },
        "id": "0rHuqC2yfaxZ",
        "outputId": "d5bc9965-8cd6-441e-ab2a-82674086ef96"
      },
      "execution_count": null,
      "outputs": [
        {
          "output_type": "display_data",
          "data": {
            "text/plain": [
              "<Figure size 1000x700 with 1 Axes>"
            ],
            "image/png": "[encoded data removed]"
          },
          "metadata": {}
        }
      ]
    },
    {
      "cell_type": "code",
      "source": [
        "# Splitting the data into features and target variable\n",
        "X = df_copy.drop(columns='Outcome')\n",
        "y = df_copy['Outcome']\n",
        "\n",
        "# Splitting into training and testing sets\n",
        "X_train, X_test, y_train, y_test = train_test_split(X, y, test_size=0.20, random_state=0)\n",
        "print('X_train size: {}, X_test size: {}'.format(X_train.shape, X_test.shape))\n"
      ],
      "metadata": {
        "colab": {
          "base_uri": "https://localhost:8080/"
        },
        "id": "f4Ue42pTfdcT",
        "outputId": "213a009c-7973-4abf-cf41-7496bdee4c98"
      },
      "execution_count": null,
      "outputs": [
        {
          "output_type": "stream",
          "name": "stdout",
          "text": [
            "X_train size: (614, 8), X_test size: (154, 8)\n"
          ]
        }
      ]
    },
    {
      "cell_type": "code",
      "source": [
        "# Feature Scaling\n",
        "sc = StandardScaler()\n",
        "X_train = sc.fit_transform(X_train)\n",
        "X_test = sc.transform(X_test)\n"
      ],
      "metadata": {
        "id": "_8uUxoXNfkMj"
      },
      "execution_count": null,
      "outputs": []
    },
    {
      "cell_type": "code",
      "source": [
        "# Finding the best model using GridSearchCV\n",
        "def find_best_model(X, y):\n",
        "    models = {\n",
        "        'logistic_regression': {\n",
        "            'model': LogisticRegression(solver='lbfgs', multi_class='auto'),\n",
        "            'parameters': {'C': [1, 5, 10]}\n",
        "        },\n",
        "        'decision_tree': {\n",
        "            'model': DecisionTreeClassifier(splitter='best'),\n",
        "            'parameters': {'criterion': ['gini', 'entropy'], 'max_depth': [5, 10]}\n",
        "        },\n",
        "        'random_forest': {\n",
        "            'model': RandomForestClassifier(criterion='gini'),\n",
        "            'parameters': {'n_estimators': [10, 15, 20, 50, 100, 200]}\n",
        "        },\n",
        "        'svm': {\n",
        "            'model': SVC(gamma='auto'),\n",
        "            'parameters': {'C': [1, 10, 20], 'kernel': ['rbf', 'linear']}\n",
        "        }\n",
        "    }\n",
        "\n",
        "    scores = []\n",
        "    cv_shuffle = ShuffleSplit(n_splits=5, test_size=0.20, random_state=0)\n",
        "\n",
        "    for model_name, model_params in models.items():\n",
        "        gs = GridSearchCV(model_params['model'], model_params['parameters'], cv=cv_shuffle, return_train_score=False)\n",
        "        gs.fit(X, y)\n",
        "        scores.append({\n",
        "            'model': model_name,\n",
        "            'best_parameters': gs.best_params_,\n",
        "            'score': gs.best_score_\n",
        "        })\n",
        "\n",
        "    return pd.DataFrame(scores, columns=['model', 'best_parameters', 'score'])\n",
        "\n",
        "    results = find_best_model(X=train, y=train)\n",
        " print(results)\n"
      ],
      "metadata": {
        "id": "7HbfSMt9fnOr"
      },
      "execution_count": null,
      "outputs": []
    },
    {
      "cell_type": "code",
      "source": [
        "# Using cross_val_score for gaining average accuracy\n",
        "scores = cross_val_score(RandomForestClassifier(n_estimators=20, random_state=0), X_train, y_train, cv=5)\n",
        "print('Average Accuracy: {}%'.format(round(sum(scores) * 100 / len(scores), 3)))\n",
        "\n",
        "# Creating Random Forest Model\n",
        "classifier = RandomForestClassifier(n_estimators=20, random_state=0)\n",
        "classifier.fit(X_train, y_train)\n",
        "\n",
        "# Creating a confusion matrix\n",
        "y_pred = classifier.predict(X_test)\n",
        "cm = confusion_matrix(y_test, y_pred)\n",
        "\n",
        "# Plotting the confusion matrix\n",
        "plt.figure(figsize=(10, 7))\n",
        "sns.heatmap(cm, annot=True, cmap=\"Blues\", fmt='g')\n",
        "plt.title('Confusion Matrix for Random Forest Classifier Model - Test Set')\n",
        "plt.xlabel('Predicted Values')\n",
        "plt.ylabel('Actual Values')\n",
        "plt.show()\n",
        "\n",
        "# Accuracy Score\n",
        "score = round(accuracy_score(y_test, y_pred), 4) * 100\n",
        "print(\"Accuracy on test set: {}%\".format(score))\n",
        "print(classification_report(y_test, y_pred))\n"
      ],
      "metadata": {
        "colab": {
          "base_uri": "https://localhost:8080/",
          "height": 832
        },
        "id": "VO8PiY59f30s",
        "outputId": "98d0a138-a22b-42d3-b908-40fee373d5ba"
      },
      "execution_count": null,
      "outputs": [
        {
          "output_type": "stream",
          "name": "stdout",
          "text": [
            "Average Accuracy: 73.292%\n"
          ]
        },
        {
          "output_type": "display_data",
          "data": {
            "text/plain": [
              "<Figure size 1000x700 with 2 Axes>"
            ],
            "image/png": "[encoded data removed]"
          },
          "metadata": {}
        },
        {
          "output_type": "stream",
          "name": "stdout",
          "text": [
            "Accuracy on test set: 77.27000000000001%\n",
            "              precision    recall  f1-score   support\n",
            "\n",
            "           0       0.82      0.86      0.84       107\n",
            "           1       0.64      0.57      0.61        47\n",
            "\n",
            "    accuracy                           0.77       154\n",
            "   macro avg       0.73      0.72      0.72       154\n",
            "weighted avg       0.77      0.77      0.77       154\n",
            "\n"
          ]
        }
      ]
    },
    {
      "cell_type": "code",
      "source": [
        "# Creating a function for prediction\n",
        "def predict_diabetes(Pregnancies, Glucose, BloodPressure, SkinThickness, Insulin, BMI, DPF, Age):\n",
        "    x = np.array([[Pregnancies, Glucose, BloodPressure, SkinThickness, Insulin, BMI, DPF, Age]])\n",
        "    x = sc.transform(x)  # Scale the features\n",
        "    return classifier.predict(x)[0]\n",
        "\n",
        "# Prediction examples\n",
        "prediction1 = predict_diabetes(2, 81, 72, 15, 76, 30.1, 0.547, 25)\n",
        "print(\"Prediction 1:\", \"Oops! You have diabetes.\" if prediction1 else \"Great! You don't have diabetes.\")\n",
        "\n",
        "prediction2 = predict_diabetes(1, 117, 88, 24, 145, 34.5, 0.403, 40)\n",
        "print(\"Prediction 2:\", \"Oops! You have diabetes.\" if prediction2 else \"Great! You don't have diabetes.\")\n"
      ],
      "metadata": {
        "colab": {
          "base_uri": "https://localhost:8080/"
        },
        "id": "sd1eO8wTf7bH",
        "outputId": "7b12900b-552f-4f88-a02a-8497e967bb21"
      },
      "execution_count": null,
      "outputs": [
        {
          "output_type": "stream",
          "name": "stdout",
          "text": [
            "Prediction 1: Great! You don't have diabetes.\n",
            "Prediction 2: Oops! You have diabetes.\n"
          ]
        },
        {
          "output_type": "stream",
          "name": "stderr",
          "text": [
            "/usr/local/lib/python3.10/dist-packages/sklearn/base.py:493: UserWarning: X does not have valid feature names, but StandardScaler was fitted with feature names\n",
            "  warnings.warn(\n",
            "/usr/local/lib/python3.10/dist-packages/sklearn/base.py:493: UserWarning: X does not have valid feature names, but StandardScaler was fitted with feature names\n",
            "  warnings.warn(\n"
          ]
        }
      ]
    }
  ]
}